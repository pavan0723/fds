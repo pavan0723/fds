{
  "nbformat": 4,
  "nbformat_minor": 0,
  "metadata": {
    "colab": {
      "name": "24_Chapter_2_Data_and_Sampling_Distributions_PSDS_book.ipynb",
      "provenance": [],
      "collapsed_sections": []
    },
    "kernelspec": {
      "name": "python3",
      "display_name": "Python 3"
    },
    "language_info": {
      "name": "python"
    }
  },
  "cells": [
    {
      "cell_type": "markdown",
      "metadata": {
        "id": "_UpyVPJSsanV"
      },
      "source": [
        "Import required Python packages."
      ]
    },
    {
      "cell_type": "code",
      "metadata": {
        "id": "K3uaMEVtsJ0r"
      },
      "source": [
        "import pandas as pd\n",
        "import numpy as np\n",
        "\n",
        "import scipy.stats as stats\n",
        "\n",
        "import seaborn as sns\n",
        "\n",
        "import pylab\n",
        "\n",
        "import matplotlib.pyplot as plt\n",
        "\n",
        "from scipy.stats import binom\n",
        "%matplotlib inline"
      ],
      "execution_count": 13,
      "outputs": []
    },
    {
      "cell_type": "code",
      "metadata": {
        "id": "BrNFR32MsnSg"
      },
      "source": [
        "loans_income = pd.read_csv('/content/sample_data/loans_income.csv')\n",
        "sp500_px = pd.read_csv('/content/sample_data/sp500_px.csv')"
      ],
      "execution_count": 64,
      "outputs": []
    },
    {
      "cell_type": "code",
      "metadata": {
        "colab": {
          "base_uri": "https://localhost:8080/"
        },
        "id": "inyC0FJwspeu",
        "outputId": "afb6a605-e4d6-4d52-a624-b342b88f1f36"
      },
      "source": [
        "loans_income.shape"
      ],
      "execution_count": 16,
      "outputs": [
        {
          "output_type": "execute_result",
          "data": {
            "text/plain": [
              "(50000, 1)"
            ]
          },
          "metadata": {},
          "execution_count": 16
        }
      ]
    },
    {
      "cell_type": "code",
      "metadata": {
        "colab": {
          "base_uri": "https://localhost:8080/"
        },
        "id": "xOVBwsgC2BAD",
        "outputId": "e8ecf80e-bee1-403c-a4e0-4ca2c2af7fea"
      },
      "source": [
        "#Take a 1000 Samples\n",
        "samples = loans_income.sample(n=1000)\n",
        "samples.shape"
      ],
      "execution_count": 17,
      "outputs": [
        {
          "output_type": "execute_result",
          "data": {
            "text/plain": [
              "(1000, 1)"
            ]
          },
          "metadata": {},
          "execution_count": 17
        }
      ]
    },
    {
      "cell_type": "code",
      "metadata": {
        "colab": {
          "base_uri": "https://localhost:8080/"
        },
        "id": "pUVszn2C2GyP",
        "outputId": "be66276e-d678-4276-dad8-d1e5a570cc8c"
      },
      "source": [
        "samples.head"
      ],
      "execution_count": 19,
      "outputs": [
        {
          "output_type": "execute_result",
          "data": {
            "text/plain": [
              "<bound method NDFrame.head of             x\n",
              "19670   84000\n",
              "47158   49000\n",
              "38921  125000\n",
              "44354  100000\n",
              "28613  106000\n",
              "...       ...\n",
              "5316    45000\n",
              "32970   65000\n",
              "42466   45000\n",
              "3942    38000\n",
              "33549   98000\n",
              "\n",
              "[1000 rows x 1 columns]>"
            ]
          },
          "metadata": {},
          "execution_count": 19
        }
      ]
    },
    {
      "cell_type": "code",
      "metadata": {
        "colab": {
          "base_uri": "https://localhost:8080/"
        },
        "id": "gEZmBtcB2bRJ",
        "outputId": "dc5ff35c-f145-4748-dbff-bfc5458e3c7e"
      },
      "source": [
        "samples.tail"
      ],
      "execution_count": 21,
      "outputs": [
        {
          "output_type": "execute_result",
          "data": {
            "text/plain": [
              "<bound method NDFrame.tail of             x\n",
              "19670   84000\n",
              "47158   49000\n",
              "38921  125000\n",
              "44354  100000\n",
              "28613  106000\n",
              "...       ...\n",
              "5316    45000\n",
              "32970   65000\n",
              "42466   45000\n",
              "3942    38000\n",
              "33549   98000\n",
              "\n",
              "[1000 rows x 1 columns]>"
            ]
          },
          "metadata": {},
          "execution_count": 21
        }
      ]
    },
    {
      "cell_type": "code",
      "metadata": {
        "colab": {
          "base_uri": "https://localhost:8080/"
        },
        "id": "FsusFwl92gCC",
        "outputId": "0c7b6b0e-b20b-457a-dce9-023c7298a3b0"
      },
      "source": [
        "#mean of 5 numbers\n",
        "sample_mean_5 = samples.rolling(5).mean().x\n",
        "sample_mean_5"
      ],
      "execution_count": 23,
      "outputs": [
        {
          "output_type": "execute_result",
          "data": {
            "text/plain": [
              "19670        NaN\n",
              "47158        NaN\n",
              "38921        NaN\n",
              "44354        NaN\n",
              "28613    92800.0\n",
              "          ...   \n",
              "5316     47880.0\n",
              "32970    48400.0\n",
              "42466    45000.0\n",
              "3942     46600.0\n",
              "33549    58200.0\n",
              "Name: x, Length: 1000, dtype: float64"
            ]
          },
          "metadata": {},
          "execution_count": 23
        }
      ]
    },
    {
      "cell_type": "code",
      "metadata": {
        "colab": {
          "base_uri": "https://localhost:8080/"
        },
        "id": "jAUg6V703G3M",
        "outputId": "790f5b91-9fc4-4fad-f6a7-8437a01469c1"
      },
      "source": [
        "sample_mean_5.shape"
      ],
      "execution_count": 24,
      "outputs": [
        {
          "output_type": "execute_result",
          "data": {
            "text/plain": [
              "(1000,)"
            ]
          },
          "metadata": {},
          "execution_count": 24
        }
      ]
    },
    {
      "cell_type": "code",
      "metadata": {
        "id": "mb6Sqp-J3KiQ"
      },
      "source": [
        "#Drop the NaN value\n",
        "sample_mean_5 = sample_mean_5.dropna()"
      ],
      "execution_count": 25,
      "outputs": []
    },
    {
      "cell_type": "code",
      "metadata": {
        "colab": {
          "base_uri": "https://localhost:8080/"
        },
        "id": "9jVjkV2O3Or5",
        "outputId": "8e96fc67-e6f9-4c8d-ec8a-c8b4a66233e9"
      },
      "source": [
        "sample_mean_5.shape"
      ],
      "execution_count": 26,
      "outputs": [
        {
          "output_type": "execute_result",
          "data": {
            "text/plain": [
              "(996,)"
            ]
          },
          "metadata": {},
          "execution_count": 26
        }
      ]
    },
    {
      "cell_type": "code",
      "metadata": {
        "id": "wA7oHE3d3Stw"
      },
      "source": [
        "#mean of 5 numbers\n",
        "sample_mean_5 = samples.rolling(5).mean().x\n",
        "sample_mean_5 = sample_mean_5.dropna()"
      ],
      "execution_count": 27,
      "outputs": []
    },
    {
      "cell_type": "code",
      "metadata": {
        "colab": {
          "base_uri": "https://localhost:8080/"
        },
        "id": "A-el_XoR331q",
        "outputId": "1e253ccb-65ce-4f01-d03d-bf56e9b2b64b"
      },
      "source": [
        "sample_mean_5"
      ],
      "execution_count": 29,
      "outputs": [
        {
          "output_type": "execute_result",
          "data": {
            "text/plain": [
              "28613    92800.0\n",
              "1800     78494.4\n",
              "38605    83094.4\n",
              "27889    82094.4\n",
              "35347    81094.4\n",
              "          ...   \n",
              "5316     47880.0\n",
              "32970    48400.0\n",
              "42466    45000.0\n",
              "3942     46600.0\n",
              "33549    58200.0\n",
              "Name: x, Length: 996, dtype: float64"
            ]
          },
          "metadata": {},
          "execution_count": 29
        }
      ]
    },
    {
      "cell_type": "code",
      "metadata": {
        "colab": {
          "base_uri": "https://localhost:8080/"
        },
        "id": "iRJSXmmk38U2",
        "outputId": "085f4b52-0904-40f6-d6ca-862d546e6265"
      },
      "source": [
        "sample_mean_5.shape"
      ],
      "execution_count": 31,
      "outputs": [
        {
          "output_type": "execute_result",
          "data": {
            "text/plain": [
              "(996,)"
            ]
          },
          "metadata": {},
          "execution_count": 31
        }
      ]
    },
    {
      "cell_type": "code",
      "metadata": {
        "id": "SrgfEHPZ3-Ar"
      },
      "source": [
        "#mean of 20 numbers\n",
        "sample_mean_20 = samples.rolling(20).mean().x\n",
        "sample_mean_20 = sample_mean_20.dropna()"
      ],
      "execution_count": 32,
      "outputs": []
    },
    {
      "cell_type": "code",
      "metadata": {
        "colab": {
          "base_uri": "https://localhost:8080/"
        },
        "id": "s9wCgCfX4Aim",
        "outputId": "36b66c55-dc94-412a-ca50-9623355b457a"
      },
      "source": [
        "sample_mean_20\n",
        "sample_mean_20.shape"
      ],
      "execution_count": 33,
      "outputs": [
        {
          "output_type": "execute_result",
          "data": {
            "text/plain": [
              "(981,)"
            ]
          },
          "metadata": {},
          "execution_count": 33
        }
      ]
    },
    {
      "cell_type": "code",
      "metadata": {
        "id": "bFEMeiXM4IE8"
      },
      "source": [
        "# mean of 30 numbers\n",
        "sample_mean_30 = samples.rolling(30).mean().x\n",
        "sample_mean_30 = sample_mean_30.dropna()"
      ],
      "execution_count": 34,
      "outputs": []
    },
    {
      "cell_type": "code",
      "metadata": {
        "colab": {
          "base_uri": "https://localhost:8080/"
        },
        "id": "g5jC44uK4Kf-",
        "outputId": "70775329-20de-48e5-a4d6-7a65721bc3d0"
      },
      "source": [
        "sample_mean_30\n",
        "sample_mean_30.shape"
      ],
      "execution_count": 35,
      "outputs": [
        {
          "output_type": "execute_result",
          "data": {
            "text/plain": [
              "(971,)"
            ]
          },
          "metadata": {},
          "execution_count": 35
        }
      ]
    },
    {
      "cell_type": "code",
      "metadata": {
        "colab": {
          "base_uri": "https://localhost:8080/",
          "height": 330
        },
        "id": "poyr8MAf4NuR",
        "outputId": "1781c3f3-4a1e-481d-985d-58641f756938"
      },
      "source": [
        "fig = plt.figure(figsize=(10,10))\n",
        "#The full distribution of the plot:\n",
        "ax = fig.add_subplot(2,2,1)\n",
        "ax.hist(loans_income.x,bins=25)\n",
        "plt.title('Full Plot of the whole DATAFRAME')"
      ],
      "execution_count": 39,
      "outputs": [
        {
          "output_type": "execute_result",
          "data": {
            "text/plain": [
              "Text(0.5, 1.0, 'Full Plot of the whole DATAFRAME')"
            ]
          },
          "metadata": {},
          "execution_count": 39
        },
        {
          "output_type": "display_data",
          "data": {
            "image/png": "[encoded data removed]",
            "text/plain": [
              "<Figure size 720x720 with 1 Axes>"
            ]
          },
          "metadata": {
            "needs_background": "light"
          }
        }
      ]
    },
    {
      "cell_type": "code",
      "metadata": {
        "colab": {
          "base_uri": "https://localhost:8080/",
          "height": 300
        },
        "id": "emfqCReK7bVd",
        "outputId": "07ed8261-81fa-448b-d3ba-c2ea21cf07a1"
      },
      "source": [
        "#distribution of 1000 samples:\n",
        "\n",
        "ax = fig.add_subplot(2,2,2)\n",
        "ax.hist(samples.x,bins=40)\n",
        "plt.title('Full Plot of the 1000 samples')"
      ],
      "execution_count": 40,
      "outputs": [
        {
          "output_type": "execute_result",
          "data": {
            "text/plain": [
              "Text(0.5, 1.0, 'Full Plot of the 1000 samples')"
            ]
          },
          "metadata": {},
          "execution_count": 40
        },
        {
          "output_type": "display_data",
          "data": {
            "image/png": "[encoded data removed]",
            "text/plain": [
              "<Figure size 432x288 with 1 Axes>"
            ]
          },
          "metadata": {
            "needs_background": "light"
          }
        }
      ]
    },
    {
      "cell_type": "code",
      "metadata": {
        "colab": {
          "base_uri": "https://localhost:8080/",
          "height": 607
        },
        "id": "g02OHL-x7b8W",
        "outputId": "4e52df92-84d5-4970-fbc2-f0e705f346b9"
      },
      "source": [
        "fig = plt.figure(figsize=(10,10))\n",
        "#The full distribution of the plot:\n",
        "ax = fig.add_subplot(2,2,1)\n",
        "ax.hist(loans_income.x,bins=25)\n",
        "plt.title('Full Plot of the whole DATAFRAME')\n",
        "\n",
        "#distribution of 1000 samples:\n",
        "ax = fig.add_subplot(2,2,2)\n",
        "ax.hist(samples.x,bins=40)\n",
        "plt.title('Full Plot of the 1000 samples')\n",
        "\n",
        "#distribution of means of 5 numbers from 1000 samples:\n",
        "ax = fig.add_subplot(2,2,3)\n",
        "ax.hist(sample_mean_5,bins=40)\n",
        "plt.title('Plot of Rolling Mean 5 of the 1000 samples')\n",
        "\n",
        "#distribution of means of 20 numbers from 1000 samples:\n",
        "ax = fig.add_subplot(2,2,4)\n",
        "ax.hist(sample_mean_20,bins=40,label='Mean of 20')\n",
        "ax.hist(sample_mean_30,bins=40,label='Mean of 30')\n",
        "plt.title('Plot of Rolling Mean 20 and 30 of the 1000 samples')\n",
        "ax.legend()\n",
        "plt.show()\n",
        "\n",
        "plt.show()"
      ],
      "execution_count": 42,
      "outputs": [
        {
          "output_type": "display_data",
          "data": {
            "image/png": "[encoded data removed]",
            "text/plain": [
              "<Figure size 720x720 with 4 Axes>"
            ]
          },
          "metadata": {
            "needs_background": "light"
          }
        }
      ]
    },
    {
      "cell_type": "markdown",
      "metadata": {
        "id": "6mTv5TRbtJYq"
      },
      "source": [
        "##**Sampling Distribution of a Statistic**"
      ]
    },
    {
      "cell_type": "code",
      "metadata": {
        "colab": {
          "base_uri": "https://localhost:8080/",
          "height": 607
        },
        "id": "168VNDyzsvdl",
        "outputId": "8e4223f6-13f6-4f02-d049-bea09a82af86"
      },
      "source": [
        "#Calculating a rolling mean:\n",
        "\n",
        "#Take a 1000 Samples\n",
        "samples = loans_income.sample(n=1000)\n",
        "\n",
        "#mean of 5 numbers\n",
        "sample_mean_5 = samples.rolling(5).mean().x\n",
        "sample_mean_5 = sample_mean_5.dropna()\n",
        "\n",
        "#mean of 20 numbers\n",
        "sample_mean_20 = samples.rolling(20).mean().x\n",
        "sample_mean_20 = sample_mean_20.dropna()\n",
        "\n",
        "# mean of 30 numbers\n",
        "sample_mean_30 = samples.rolling(30).mean().x\n",
        "sample_mean_30 = sample_mean_30.dropna()\n",
        "\n",
        "fig = plt.figure(figsize=(10,10))\n",
        "#The full distribution of the plot:\n",
        "ax = fig.add_subplot(2,2,1)\n",
        "ax.hist(loans_income.x,bins=25)\n",
        "plt.title('Full Plot of the whole DATAFRAME')\n",
        "\n",
        "#distribution of 1000 samples:\n",
        "\n",
        "ax = fig.add_subplot(2,2,2)\n",
        "ax.hist(samples.x,bins=40)\n",
        "plt.title('Full Plot of the 1000 samples')\n",
        "\n",
        "#distribution of means of 5 numbers from 1000 samples:\n",
        "ax = fig.add_subplot(2,2,3)\n",
        "ax.hist(sample_mean_5,bins=40)\n",
        "plt.title('Plot of Rolling Mean 5 of the 1000 samples')\n",
        "\n",
        "#distribution of means of 20 numbers from 1000 samples:\n",
        "ax = fig.add_subplot(2,2,4)\n",
        "ax.hist(sample_mean_20,bins=40,label='Mean of 20')\n",
        "ax.hist(sample_mean_30,bins=40,label='Mean of 30')\n",
        "plt.title('Plot of Rolling Mean 20 and 30 of the 1000 samples')\n",
        "ax.legend()\n",
        "plt.show()\n",
        "\n",
        "plt.show()"
      ],
      "execution_count": 43,
      "outputs": [
        {
          "output_type": "display_data",
          "data": {
            "image/png": "[encoded data removed]",
            "text/plain": [
              "<Figure size 720x720 with 4 Axes>"
            ]
          },
          "metadata": {
            "needs_background": "light"
          }
        }
      ]
    },
    {
      "cell_type": "markdown",
      "metadata": {
        "id": "nyD-EVWt9-Zb"
      },
      "source": [
        "###**Population stats**"
      ]
    },
    {
      "cell_type": "code",
      "metadata": {
        "colab": {
          "base_uri": "https://localhost:8080/"
        },
        "id": "_jFL1m45-CiJ",
        "outputId": "26845af6-c3ed-43df-f0ab-f44ddf069c92"
      },
      "source": [
        "#Calculating a rolling mean:\n",
        "print('Total Population STD : ',loans_income.x.std())\n",
        "print('Total Population Mean : ',loans_income.x.mean())\n",
        "print('Total Population Median : ',np.median(loans_income.x))\n",
        "print('Total Population Standard Error:',stats.sem(loans_income.x, ddof=1))\n",
        "#ddof Delta Degrees of Freedom"
      ],
      "execution_count": 44,
      "outputs": [
        {
          "output_type": "stream",
          "name": "stdout",
          "text": [
            "Total Population STD :  32872.03536985002\n",
            "Total Population Mean :  68760.51844\n",
            "Total Population Median :  62000.0\n",
            "Total Population Standard Error: 147.00821129152527\n"
          ]
        }
      ]
    },
    {
      "cell_type": "markdown",
      "metadata": {
        "id": "Nn7AlJQO-yjr"
      },
      "source": [
        "###**Bootstrapping for 1000,10000,20000 Samples**"
      ]
    },
    {
      "cell_type": "code",
      "metadata": {
        "id": "Ty1XDGGX-GM6"
      },
      "source": [
        "bootstrap_1000 = np.random.choice(loans_income.x,size=1000,replace=True)\n",
        "bootstrap_10000 = np.random.choice(loans_income.x,size=10000,replace=True)\n",
        "bootstrap_20000 = np.random.choice(loans_income.x,size=20000,replace=True)"
      ],
      "execution_count": 46,
      "outputs": []
    },
    {
      "cell_type": "code",
      "metadata": {
        "colab": {
          "base_uri": "https://localhost:8080/"
        },
        "id": "C3AB76Mx-7kN",
        "outputId": "11c205e7-6098-4ef7-dacf-5b2e12f74d91"
      },
      "source": [
        "bootstrap_1000.shape"
      ],
      "execution_count": 47,
      "outputs": [
        {
          "output_type": "execute_result",
          "data": {
            "text/plain": [
              "(1000,)"
            ]
          },
          "metadata": {},
          "execution_count": 47
        }
      ]
    },
    {
      "cell_type": "code",
      "metadata": {
        "colab": {
          "base_uri": "https://localhost:8080/"
        },
        "id": "mP5uVbIP_TZd",
        "outputId": "4d75726c-8ace-4151-a8d3-1b040c24c46f"
      },
      "source": [
        "bootstrap_10000.shape"
      ],
      "execution_count": 48,
      "outputs": [
        {
          "output_type": "execute_result",
          "data": {
            "text/plain": [
              "(10000,)"
            ]
          },
          "metadata": {},
          "execution_count": 48
        }
      ]
    },
    {
      "cell_type": "code",
      "metadata": {
        "colab": {
          "base_uri": "https://localhost:8080/"
        },
        "id": "-FEwzW9u_Vp1",
        "outputId": "6d42beb0-20b2-4a81-bf11-3efbb246c61e"
      },
      "source": [
        "arr_bootstraps = [bootstrap_1000,bootstrap_10000,bootstrap_20000]\n",
        "arr_bootstraps"
      ],
      "execution_count": 50,
      "outputs": [
        {
          "output_type": "execute_result",
          "data": {
            "text/plain": [
              "[array([ 35000,  45000, 125000,  90000, 120000,  62000,  86056,  36000,\n",
              "        100000,  90000,  29037,  50000, 105000, 100000,  80000,  92000,\n",
              "         45996, 110000,  81000, 103000,  71000,  60000,  40000,  80000,\n",
              "         53000,  44000,  50000, 104000,  70000,  64000,  90000,  58332,\n",
              "         87445,  36500, 115000,  27919,  92000,  60000,  46200,  70000,\n",
              "        130000,  80000,  90000,  30000,  51000,  68000, 109000,  97700,\n",
              "         68559, 115000,  44000,  84800,  50000,  29444,  36000,  80000,\n",
              "         48000,  76409,  60000, 128000,  20000,  75000,  85000,  59850,\n",
              "         76000,  65000,  70000, 115000,  85000,  26280,  35000,  30000,\n",
              "         67000,  75000,  85000, 115000,  75000,  49000,  47000,  63000,\n",
              "         32000,  40000, 102000,  52000,  67500,  66500,  95000,  41000,\n",
              "         75000, 103000,  55000, 150000,  36000,  60000,  48000,  60000,\n",
              "         36000, 132000,  40000,  30000, 120000,  50877, 115000,  42000,\n",
              "         42000, 150000,  40000,  28000,  65000,  69000,  67500,  13500,\n",
              "         55000,  82000,  52000,  40000,  82000, 165000,  65000,  76000,\n",
              "        100000, 111000,  95000,  74000,  65000,  63000,  52000,  89000,\n",
              "         95000,  49000,  90000,  75000,  18624,  50000,  99000,  76000,\n",
              "         28000,  43000,  28000,  75000,  26453,  38000, 130000,  40000,\n",
              "        170000,  36000,  45500,  76500,  60000,  50000,  55000, 140000,\n",
              "        109000,  62000,  35000,  80000,  50457,  16500,  88000,  48684,\n",
              "         47000,  26000,  75000,  18000, 115000,  58000,  49000, 130000,\n",
              "         90000,  31000,  40000,  90000,  80000,  36000, 110000, 145000,\n",
              "         43000,  45000, 100000,  32640,  56000,  45000, 100000,  70000,\n",
              "         38900, 100000, 145000,  83000,  89200,  32000,  56000,  56000,\n",
              "        102000,  61500,  40000,  73000, 100000,  65000,  55000,  67000,\n",
              "         65000, 102000,  65000,  75000,  45000,  25000,  44000,  91300,\n",
              "         55000, 180000,  95000, 120000,  45000,  48000,  57000,  95000,\n",
              "         50000,  79000, 108000,  30000,  80000,  70000, 120000, 110000,\n",
              "         35000,  80000,  45000, 125000,  58000,  40000,  50000, 120000,\n",
              "        150000,  70000,  62000,  88000,  95919,  26000,  98000,  80000,\n",
              "         52300, 105600,  60000,  40000,  85000,  70000,  30000, 132000,\n",
              "         45000,  50000,  65000,  41196, 140000,  50000,  68000,  44000,\n",
              "         26000,  43000,  36000,  71000,  35000,  38500,  35800,  45312,\n",
              "         50000,  60000,  66800,  40000,  55000,  61000, 100000,  48000,\n",
              "         60000,  67500,  45000,  70000,  79768, 115000,  95000,  55000,\n",
              "         42000,  39000,  55000, 128000,  76000,  45000,  35000,  75000,\n",
              "         65000,  43000,  38000, 100000,  61763,  90000,  90000,  75000,\n",
              "         45000,  44000,  68000, 116087, 130000, 104000,  68000,  81600,\n",
              "         50000, 165000,  46267,  55000, 100000,  80000,  82500,  83000,\n",
              "         43500,  36000, 100000,  67000, 164542,  55000,  18000,  55000,\n",
              "         45000,  26522,  38000, 150000,  52000,  42000,  62000,  38500,\n",
              "         85000, 110000,  50000,  40000,  80000,  37200,  80000,  95000,\n",
              "         47000,  40000, 102780,  85000,  95000,  85225,  99303, 126000,\n",
              "         70000,  36000,  30000,  82882,  62000,  54000,  73000,  82000,\n",
              "         79000,  64000, 100000,  45000,  51200,  85000,  69600,  67000,\n",
              "         65000,  40000,  53653, 110000,  62000,  88000,  40000,  76000,\n",
              "         73000,  94000,  48000,  40000, 106000,  63000,  72500,  98000,\n",
              "         65000,  65000,  40000,  70000,  44000,  60000,  57000,  40560,\n",
              "         30000,  86000,  80000,  25000,  59000,  85000, 120000,  75000,\n",
              "         90000,  85000,  90000,  26000,  65000,  75000,  48000,  21000,\n",
              "         30000,  80000,  52000,  39783,  67075,  80000, 116136,  40000,\n",
              "         42000,  77000,  70695, 110000,  38800, 104944,  62000,  69000,\n",
              "         51000,  91000,  62000,  29000,  69273, 105000,  42000, 165000,\n",
              "         75000,  92000,  70000,  70000, 129000,  30000,  42000,  86000,\n",
              "         30000,  28500, 115000,  49527,  30378,  56000,  56756,  35000,\n",
              "         85000,  50000,  85200, 183000,  45000,  51996,  95500,  43680,\n",
              "         45000,  57750, 110000,  47500,  90000,  18000,  60000,  43000,\n",
              "         60000,  70000,  40000,  15000, 105000,  48000,  60000,  43264,\n",
              "        140000,  75000,  45000, 106240,  85000,  71000,  41000,  40000,\n",
              "         42000,  82000,  24000,  70000,  28000,  66328,  83000, 123500,\n",
              "         50000,  48000, 150000,  55000,  51000, 125000,  53000, 100800,\n",
              "         60000,  55000, 102000,  45000,  28616,  95000,  63000,  60000,\n",
              "        106000,  73500,  98000,  75000,  35000,  68000,  65000, 150000,\n",
              "         50000,  55162, 165000,  45000,  55000,  55000,  55000,  75000,\n",
              "         75000, 175000,  15000,  79000,  55000, 150000,  60000,  40000,\n",
              "         38000,  99000,  50000,  35000,  65000,  35000,  55000,  40000,\n",
              "        120000,  44700, 124000,  43000,  55000,  62000,  95000, 100000,\n",
              "         66000,  83004,  45000,  87000,  50000,  70000,  68835,  35000,\n",
              "         77291,  68000,  42000, 130000,  75000,  89000,  45000, 110000,\n",
              "        110000,  68000, 150000,  65000,  35000, 120000,  66000,  95000,\n",
              "         55000,  65000, 180000,  60000,  18000,  70000,  36000,  60000,\n",
              "         86708,  40000, 175000,  15000,  43000,  24000,  30000,  72000,\n",
              "         50000,  86400,  22000,  45000,  84000,  57960,  35000,  35000,\n",
              "         55000,  30000,  40000,  61000,  56000,  80000, 135000,  50000,\n",
              "         45000, 120000,  68200,  24000,  68000,  50000,  65000,  28000,\n",
              "         42000,  55000,  80000,  40000,  60000,  85000,  22272,  54000,\n",
              "         75000,  85000,  95000,  25064, 120000,  64000,  50000,  48000,\n",
              "         33600, 130000,  88914,  68000,  81120,  24000, 135000,  60000,\n",
              "         34000,  27000,  60000,  55000,  47300,  75000,  46000,  36700,\n",
              "         52800,  80000, 170000,  23040,  72000,  86000,  70379,  62400,\n",
              "         80000,  30000,  50000,  75000,  35500, 110000,  45000,  45000,\n",
              "         90000,  75000, 109995,  80800,  49550,  92000,  59000,  93400,\n",
              "         55000,  77000,  80000,  55000,  45000,  83000,  35000,  44000,\n",
              "         98004,  40000,  40000,  62400,  60000,  36000,  88000,  56000,\n",
              "         40000,  80000,  69910,  56000,  47000,  77000,  50000,  35000,\n",
              "         52000, 103000,  18737,  14400,  84000,  70000,  40000,  44832,\n",
              "         85000,  78000,  34000, 110000,  80000,  49800,  58000,  50000,\n",
              "        105000,  85000,  69500,  61500,  56035,  33000,  33000,  35000,\n",
              "         80000, 125000,  59886,  28000,  45000,  45000,  57000,  70000,\n",
              "         83546,  57500,  78000,  25000,  66000,  81000,  34000,  40000,\n",
              "         35000,  54000,  64920,  54000,  70000,  40000,  61000,  79598,\n",
              "         69000, 110000, 191000,  80000, 118830,  48000,  70000,  52604,\n",
              "         80000,  40000,  92000, 180000,  40000,  42000,  67000,  42800,\n",
              "        185000,  39540,  75000,  85000,  38000,  74500,  45000,  50000,\n",
              "         45000,  70000,  55000,  37620,  70000, 150000, 132562,  56000,\n",
              "        134748,  48000,  71000, 101000,  64000,  65000,  51700,  40882,\n",
              "         78000,  50000,  40000,  62000, 106000,  49000,  33000,  38000,\n",
              "         40000,  65000,  55000,  35000,  56000,  97000,  70000,  30000,\n",
              "         73524,  83000,  84000,  70000,  84000, 175000,  79000, 120000,\n",
              "         60000,  55000,  55000, 143400,  36000,  79000, 150000,  83731,\n",
              "         36000,  74000,  52000,  45000, 123000,  44000,  99000,  42000,\n",
              "         63000,  91000,   8652,  80000,  24000, 180000,  90000,  70000,\n",
              "        100000,  43000,  65000,  40000,  65000,  69000,  80000,  30000,\n",
              "         55000,  48000,  52000,  85000, 103000,  50400,  31900,  84000,\n",
              "         27040,  50000, 135000,  68000,  65000,  72103,  50000,  70700,\n",
              "         75000,  69600,  50000,  38000,  88000,  43000, 110000,  93000,\n",
              "         36000,  78000,  78000, 116000,  46725, 130000,  52000,  80000,\n",
              "         29000, 133000,  18000,  63000,  68008,  65000,  75000,  61000,\n",
              "         65000, 110000, 139000,  30000,  52000,  45000,  65000, 190000,\n",
              "         45000, 140000,  82000,  75000,  75000,  28000, 100000,  27000,\n",
              "        100000,  75000,  38000,  90000,  58000,  52000,  44060,  50000,\n",
              "         80000,  70000,  47000,  59798,  55000,  49000,  55000,  38000,\n",
              "         43000,  68200,  29586, 125000,  24000,  53000,  29000,  76000,\n",
              "         75000,   8400,  92451,  65000,  50000,  90996,  70000, 100000,\n",
              "         65000,  67500,  50000, 130000,  78000,  75000,  88000, 100000,\n",
              "         96000,  57000,  42500,  26000,  65000, 100000,  65000,  60000,\n",
              "         73000,  72000, 145000,  41000,  22320,  73000,  71000,  34000,\n",
              "         82000, 115000,  73230,  85000,  12000, 115000, 170000,  76000,\n",
              "         80000,  63000,  73000, 110000,  26000,  70000,  44000, 171000,\n",
              "         75000,  29120,  52000,  60000,  76296,  52000,  65000,  25000,\n",
              "         75000,  42000,  60000,  45000,  70000, 160000, 127000,  38000,\n",
              "         62500,  33000,  60000, 103000,  65000,  48000,  60000,  39600,\n",
              "         50000,  73000,  55000,  21000,  41000,  44000, 110000,  84000,\n",
              "         50000,  68000,  38513,  40000,  96000,  30000,  73000,  61426,\n",
              "         56000, 115000,  62500, 125000,  32000, 158500,  48000,  63600]),\n",
              " array([43000, 67600, 50000, ..., 12000, 88926, 45000]),\n",
              " array([30000, 73000, 82000, ..., 32400, 62000, 70000])]"
            ]
          },
          "metadata": {},
          "execution_count": 50
        }
      ]
    },
    {
      "cell_type": "code",
      "metadata": {
        "colab": {
          "base_uri": "https://localhost:8080/"
        },
        "id": "-xIe1I9n_nxm",
        "outputId": "1d497897-a7e5-449e-c2a0-214d0b144c50"
      },
      "source": [
        "len(arr_bootstraps)"
      ],
      "execution_count": 51,
      "outputs": [
        {
          "output_type": "execute_result",
          "data": {
            "text/plain": [
              "3"
            ]
          },
          "metadata": {},
          "execution_count": 51
        }
      ]
    },
    {
      "cell_type": "code",
      "metadata": {
        "colab": {
          "base_uri": "https://localhost:8080/"
        },
        "id": "Baa5PVp3_sPR",
        "outputId": "cc20e9d0-bc60-4330-cda1-a97181866932"
      },
      "source": [
        "#Calculating a rolling mean:\n",
        "for i in range(len(arr_bootstraps)):\n",
        "    print('Bootstrap Stats for {} examples \\n'.format(len(arr_bootstraps[i])))\n",
        "    print('------------------------------------------------------------------------------\\n')\n",
        "    print('Bootstrap STD : ',np.std(arr_bootstraps[i],ddof=1))\n",
        "    print('Bootstrap Mean : ',np.mean(arr_bootstraps[i]))\n",
        "    print('Bootstrap Median: ',np.median(arr_bootstraps[i]))\n",
        "    print('Boostrap Bias, ',loans_income.x.mean() - np.mean(arr_bootstraps[i],axis=0))\n",
        "    print('Standard Error:',stats.sem(arr_bootstraps[i], ddof=1))\n",
        "    print('\\n------------------------------------------------------------------------------\\n')"
      ],
      "execution_count": 52,
      "outputs": [
        {
          "output_type": "stream",
          "name": "stdout",
          "text": [
            "Bootstrap Stats for 1000 examples \n",
            "\n",
            "------------------------------------------------------------------------------\n",
            "\n",
            "Bootstrap STD :  32295.52018671087\n",
            "Bootstrap Mean :  68777.609\n",
            "Bootstrap Median:  64460.0\n",
            "Boostrap Bias,  -17.090559999996913\n",
            "Standard Error: 1021.2740200995271\n",
            "\n",
            "------------------------------------------------------------------------------\n",
            "\n",
            "Bootstrap Stats for 10000 examples \n",
            "\n",
            "------------------------------------------------------------------------------\n",
            "\n",
            "Bootstrap STD :  32979.727071286696\n",
            "Bootstrap Mean :  69071.7661\n",
            "Bootstrap Median:  62000.0\n",
            "Boostrap Bias,  -311.24765999999363\n",
            "Standard Error: 329.797270712867\n",
            "\n",
            "------------------------------------------------------------------------------\n",
            "\n",
            "Bootstrap Stats for 20000 examples \n",
            "\n",
            "------------------------------------------------------------------------------\n",
            "\n",
            "Bootstrap STD :  32742.516445364854\n",
            "Bootstrap Mean :  68780.53835\n",
            "Bootstrap Median:  62000.0\n",
            "Boostrap Bias,  -20.01991000000271\n",
            "Standard Error: 231.52455411629538\n",
            "\n",
            "------------------------------------------------------------------------------\n",
            "\n"
          ]
        }
      ]
    },
    {
      "cell_type": "markdown",
      "metadata": {
        "id": "q_Ma-jG9Bp9N"
      },
      "source": [
        "##**7. Long-tailed Distributions and QQ-Plot**"
      ]
    },
    {
      "cell_type": "code",
      "metadata": {
        "colab": {
          "base_uri": "https://localhost:8080/",
          "height": 137
        },
        "id": "IgmwRLOF_koA",
        "outputId": "758c20e7-5a00-4857-ccd8-6c86e1f64d14"
      },
      "source": [
        "stats.probplot(loans_income.x, dist=\"norm\", plot=pylab\n",
        "pylab.show()"
      ],
      "execution_count": 65,
      "outputs": [
        {
          "output_type": "error",
          "ename": "SyntaxError",
          "evalue": "ignored",
          "traceback": [
            "\u001b[0;36m  File \u001b[0;32m\"<ipython-input-65-e2116c528caa>\"\u001b[0;36m, line \u001b[0;32m2\u001b[0m\n\u001b[0;31m    pylab.show()\u001b[0m\n\u001b[0m        ^\u001b[0m\n\u001b[0;31mSyntaxError\u001b[0m\u001b[0;31m:\u001b[0m invalid syntax\n"
          ]
        }
      ]
    },
    {
      "cell_type": "markdown",
      "metadata": {
        "id": "ZZU4PrTUB6v1"
      },
      "source": [
        "**The above qq plot tells us that the sample which we have is not normally distributed**\n",
        "*   What is a QQ Plot?\n",
        "    *  A plot to visualize how close a sample is to a normal distribution\n",
        "\n",
        "\n"
      ]
    },
    {
      "cell_type": "code",
      "metadata": {
        "colab": {
          "base_uri": "https://localhost:8080/",
          "height": 295
        },
        "id": "dbMLxRbvB1Bo",
        "outputId": "ed777c86-7aba-42cc-b23b-6feed95d0aaf"
      },
      "source": [
        "measurements = np.random.normal(loc = 20, scale = 5, size=100)   \n",
        "stats.probplot(measurements, dist=\"norm\", plot=pylab)\n",
        "pylab.show()"
      ],
      "execution_count": 54,
      "outputs": [
        {
          "output_type": "display_data",
          "data": {
            "image/png": "[encoded data removed]",
            "text/plain": [
              "<Figure size 432x288 with 1 Axes>"
            ]
          },
          "metadata": {
            "needs_background": "light"
          }
        }
      ]
    },
    {
      "cell_type": "code",
      "metadata": {
        "id": "AlHkiMsZB_tu"
      },
      "source": [
        "nflx = sp500_px.loc[:,'NFLX']"
      ],
      "execution_count": 67,
      "outputs": []
    },
    {
      "cell_type": "code",
      "metadata": {
        "colab": {
          "base_uri": "https://localhost:8080/",
          "height": 295
        },
        "id": "6OSKRze4Eqk0",
        "outputId": "d7fc37a6-3721-481f-dba9-05c79f935b9d"
      },
      "source": [
        "stats.probplot(nflx, dist=\"norm\", plot=pylab)\n",
        "pylab.show()"
      ],
      "execution_count": 68,
      "outputs": [
        {
          "output_type": "display_data",
          "data": {
            "image/png": "[encoded data removed]",
            "text/plain": [
              "<Figure size 432x288 with 1 Axes>"
            ]
          },
          "metadata": {
            "needs_background": "light"
          }
        }
      ]
    },
    {
      "cell_type": "code",
      "metadata": {
        "colab": {
          "base_uri": "https://localhost:8080/",
          "height": 428
        },
        "id": "aoGdfq8FE1er",
        "outputId": "998f4d41-cf6e-4970-f811-c1a49eaa055f"
      },
      "source": [
        "# After standardizing tread\n",
        "\n",
        "treated_nflx = np.diff(np.log(nflx))\n",
        "stats.probplot(treated_nflx, dist=\"norm\", plot=pylab,fit=True)\n",
        "pylab.show()"
      ],
      "execution_count": 69,
      "outputs": [
        {
          "output_type": "stream",
          "name": "stderr",
          "text": [
            "/usr/local/lib/python3.7/dist-packages/pandas/core/series.py:726: RuntimeWarning: divide by zero encountered in log\n",
            "  result = getattr(ufunc, method)(*inputs, **kwargs)\n",
            "/usr/local/lib/python3.7/dist-packages/pandas/core/series.py:726: RuntimeWarning: invalid value encountered in log\n",
            "  result = getattr(ufunc, method)(*inputs, **kwargs)\n",
            "/usr/local/lib/python3.7/dist-packages/numpy/lib/function_base.py:1280: RuntimeWarning: invalid value encountered in subtract\n",
            "  a = op(a[slice1], a[slice2])\n"
          ]
        },
        {
          "output_type": "display_data",
          "data": {
            "image/png": "[encoded data removed]",
            "text/plain": [
              "<Figure size 432x288 with 1 Axes>"
            ]
          },
          "metadata": {
            "needs_background": "light"
          }
        }
      ]
    }
  ]
}